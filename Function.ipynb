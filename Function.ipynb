{
 "cells": [
  {
   "cell_type": "code",
   "execution_count": 3,
   "id": "144ba98e",
   "metadata": {},
   "outputs": [],
   "source": [
    "def my_function(p,l):\n",
    "    print (p*l)"
   ]
  },
  {
   "cell_type": "code",
   "execution_count": 4,
   "id": "1f87e2a7",
   "metadata": {},
   "outputs": [
    {
     "name": "stdout",
     "output_type": "stream",
     "text": [
      "8\n"
     ]
    }
   ],
   "source": [
    "my_function (2,4)"
   ]
  },
  {
   "cell_type": "code",
   "execution_count": 5,
   "id": "606353e2",
   "metadata": {},
   "outputs": [],
   "source": [
    "def printme (str):\n",
    "    \"this print a passed string into thus function\"\n",
    "    print (str)\n",
    "    return"
   ]
  },
  {
   "cell_type": "code",
   "execution_count": 6,
   "id": "8254508e",
   "metadata": {},
   "outputs": [
    {
     "name": "stdout",
     "output_type": "stream",
     "text": [
      "values inside the function: [10, 20, 30, [1, 2, 3, 4]]\n",
      "value outside the function: [10, 20, 30, [1, 2, 3, 4]]\n"
     ]
    }
   ],
   "source": [
    "def changeme(mylist):\n",
    "    mylist.append([1,2,3,4])\n",
    "    print (\"values inside the function:\", mylist)\n",
    "mylist = [10,20,30]\n",
    "changeme(mylist)\n",
    "print (\"value outside the function:\", mylist)\n",
    "\n"
   ]
  },
  {
   "cell_type": "code",
   "execution_count": 9,
   "id": "a827aa3d",
   "metadata": {},
   "outputs": [
    {
     "name": "stdout",
     "output_type": "stream",
     "text": [
      "values inside the function: [1, 2, 3, 4]\n",
      "value outside the function: [10, 20, 30]\n"
     ]
    }
   ],
   "source": [
    "def changeme(mylist):\n",
    "    mylist = [1,2,3,4]\n",
    "    print (\"values inside the function:\", mylist)\n",
    "mylist = [10,20,30]\n",
    "changeme(mylist)\n",
    "print (\"value outside the function:\", mylist)\n",
    "\n"
   ]
  },
  {
   "cell_type": "code",
   "execution_count": 11,
   "id": "e5432260",
   "metadata": {},
   "outputs": [
    {
     "name": "stdout",
     "output_type": "stream",
     "text": [
      "ini parameter\n"
     ]
    }
   ],
   "source": [
    "def printme(str):\n",
    "    print(str)\n",
    "    return\n",
    "printme(\"ini parameter\")"
   ]
  },
  {
   "cell_type": "code",
   "execution_count": 15,
   "id": "660c21c6",
   "metadata": {},
   "outputs": [
    {
     "name": "stdout",
     "output_type": "stream",
     "text": [
      "Halo, my name is robin\n",
      "age: 20\n"
     ]
    }
   ],
   "source": [
    "def printinfo(name,age):\n",
    "    print (\"Halo, my name is\", name)\n",
    "    print (\"age:\", age)\n",
    "printinfo (age=20, name=\"robin\")"
   ]
  },
  {
   "cell_type": "code",
   "execution_count": 16,
   "id": "0acf0418",
   "metadata": {},
   "outputs": [
    {
     "name": "stdout",
     "output_type": "stream",
     "text": [
      "Halo, my name is robin\n",
      "age: 26\n"
     ]
    }
   ],
   "source": [
    "def printinfo(name,age=26):\n",
    "    print (\"Halo, my name is\", name)\n",
    "    print (\"age:\", age)\n",
    "printinfo (name=\"robin\")"
   ]
  },
  {
   "cell_type": "code",
   "execution_count": 21,
   "id": "fcaa41fc",
   "metadata": {},
   "outputs": [
    {
     "name": "stdout",
     "output_type": "stream",
     "text": [
      "Output 70\n",
      "(60, 50, 'a')\n",
      "60\n",
      "50\n",
      "a\n"
     ]
    }
   ],
   "source": [
    "def printinfo(arg1, *vartuple):\n",
    "    print (\"Output\", arg1)\n",
    "    print(vartuple)\n",
    "    for var in vartuple:\n",
    "        print (var)\n",
    "    return\n",
    "printinfo(70,60,50,\"a\")"
   ]
  },
  {
   "cell_type": "code",
   "execution_count": 23,
   "id": "b0d8fc1b",
   "metadata": {},
   "outputs": [
    {
     "name": "stdout",
     "output_type": "stream",
     "text": [
      "15\n"
     ]
    }
   ],
   "source": [
    "sum = lambda arg1, arg2: arg1+arg2\n",
    "print(sum(10,5))"
   ]
  },
  {
   "cell_type": "code",
   "execution_count": 25,
   "id": "31e472c6",
   "metadata": {},
   "outputs": [
    {
     "name": "stdout",
     "output_type": "stream",
     "text": [
      "15\n"
     ]
    }
   ],
   "source": [
    "def sum(arg1, arg2):\n",
    "    return arg1+arg2\n",
    "print(sum(10,5))"
   ]
  },
  {
   "cell_type": "code",
   "execution_count": 28,
   "id": "ad3a5617",
   "metadata": {},
   "outputs": [
    {
     "name": "stdout",
     "output_type": "stream",
     "text": [
      "inside the function 30\n",
      "Outside the function: 41\n"
     ]
    }
   ],
   "source": [
    "def sum(arg1,arg2):\n",
    "    total = arg1+arg2\n",
    "    total2 =arg1+total\n",
    "    print(\"inside the function\", total)\n",
    "    return total2\n",
    "total =sum(10,20)\n",
    "print(\"Outside the function:\", total+1)"
   ]
  },
  {
   "cell_type": "code",
   "execution_count": 29,
   "id": "47462130",
   "metadata": {},
   "outputs": [
    {
     "name": "stdout",
     "output_type": "stream",
     "text": [
      "inside the function: 30\n",
      "global variable 0\n"
     ]
    }
   ],
   "source": [
    "total = 0\n",
    "def sum(arg1,arg2):\n",
    "    total = arg1+arg2\n",
    "    print(\"inside the function:\", total)\n",
    "    return total\n",
    "\n",
    "sum(10,20)\n",
    "print (\"global variable\", total)"
   ]
  },
  {
   "cell_type": "code",
   "execution_count": null,
   "id": "786c12a3",
   "metadata": {},
   "outputs": [],
   "source": [
    "jumlahkucing = 30\n",
    "def jumlahhewan():\n",
    "    jumlahanjing = 20\n",
    "    return jumlahkucing+jumlahanjing\n",
    "\n",
    "def jumlahkelinci"
   ]
  }
 ],
 "metadata": {
  "kernelspec": {
   "display_name": "Python 3 (ipykernel)",
   "language": "python",
   "name": "python3"
  },
  "language_info": {
   "codemirror_mode": {
    "name": "ipython",
    "version": 3
   },
   "file_extension": ".py",
   "mimetype": "text/x-python",
   "name": "python",
   "nbconvert_exporter": "python",
   "pygments_lexer": "ipython3",
   "version": "3.9.7"
  }
 },
 "nbformat": 4,
 "nbformat_minor": 5
}
