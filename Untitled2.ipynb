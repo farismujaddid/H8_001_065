{
 "cells": [
  {
   "cell_type": "code",
   "execution_count": 1,
   "id": "bd8b70fa",
   "metadata": {},
   "outputs": [
    {
     "name": "stdout",
     "output_type": "stream",
     "text": [
      "**\n",
      "***\n",
      "****\n",
      "*****\n",
      "\n"
     ]
    }
   ],
   "source": [
    "x = \"*\"\n",
    "baris = 1;\n",
    "jml= 4;\n",
    "hasil =\"\"\n",
    "while baris <= jml:\n",
    "    kolom = baris\n",
    "    while kolom > 0:\n",
    "        hasil +=x\n",
    "        kolom -=1\n",
    "    hasil +=\"*\\n\"\n",
    "    baris += 1\n",
    "print (hasil)"
   ]
  },
  {
   "cell_type": "code",
   "execution_count": null,
   "id": "c6ef8a06",
   "metadata": {},
   "outputs": [],
   "source": [
    "x = \"*\"\n",
    "baris = 1;\n",
    "jml= 4;\n",
    "hasil =\"\"\n",
    "while baris <= jml:\n",
    "    kolom = baris\n",
    "    while kolom > 0:\n",
    "        hasil +=x\n",
    "        kolom -=1\n",
    "    hasil +=\"*\\n\"\n",
    "    baris -= 1\n",
    "print (hasil)"
   ]
  },
  {
   "cell_type": "code",
   "execution_count": null,
   "id": "67ae2849",
   "metadata": {},
   "outputs": [],
   "source": []
  },
  {
   "cell_type": "code",
   "execution_count": null,
   "id": "30c86e06",
   "metadata": {},
   "outputs": [],
   "source": []
  }
 ],
 "metadata": {
  "kernelspec": {
   "display_name": "Python 3 (ipykernel)",
   "language": "python",
   "name": "python3"
  },
  "language_info": {
   "codemirror_mode": {
    "name": "ipython",
    "version": 3
   },
   "file_extension": ".py",
   "mimetype": "text/x-python",
   "name": "python",
   "nbconvert_exporter": "python",
   "pygments_lexer": "ipython3",
   "version": "3.9.7"
  }
 },
 "nbformat": 4,
 "nbformat_minor": 5
}
