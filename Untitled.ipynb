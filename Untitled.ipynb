{
 "cells": [
  {
   "cell_type": "code",
   "execution_count": 1,
   "id": "b82f3a9c",
   "metadata": {},
   "outputs": [],
   "source": [
    "x = 0\n",
    "y = 5"
   ]
  },
  {
   "cell_type": "code",
   "execution_count": 4,
   "id": "0d48e4f0",
   "metadata": {},
   "outputs": [
    {
     "name": "stdout",
     "output_type": "stream",
     "text": [
      "yes\n"
     ]
    }
   ],
   "source": [
    "if x < y :\n",
    "    print ('yes')"
   ]
  },
  {
   "cell_type": "code",
   "execution_count": 7,
   "id": "0d15b5c8",
   "metadata": {},
   "outputs": [
    {
     "name": "stdout",
     "output_type": "stream",
     "text": [
      "salah\n",
      "x is large\n"
     ]
    }
   ],
   "source": [
    "x = 20\n",
    "if x > 50:\n",
    "    print (\"benar\")\n",
    "    print (\"x is small\")\n",
    "else:\n",
    "    print (\"salah\")\n",
    "    print (\"x is large\")"
   ]
  },
  {
   "cell_type": "code",
   "execution_count": 8,
   "id": "48566f3e",
   "metadata": {},
   "outputs": [
    {
     "name": "stdout",
     "output_type": "stream",
     "text": [
      "bokek\n"
     ]
    }
   ],
   "source": [
    "hargaBuku = 20000\n",
    "hargaMajalah = 5000\n",
    "uang = 2000\n",
    "\n",
    "if uang> hargaBuku:\n",
    "    print(\"beli buku\")\n",
    "else:\n",
    "    print(\"bokek\")"
   ]
  },
  {
   "cell_type": "code",
   "execution_count": 9,
   "id": "04b1db49",
   "metadata": {},
   "outputs": [],
   "source": [
    "suhu = 15\n",
    "aktivitas = ''\n",
    "if suhu < 15:\n",
    "    aktivitas = 'tidur'\n",
    "else: \n",
    "    aktivitas = \"olahraga\""
   ]
  },
  {
   "cell_type": "code",
   "execution_count": 11,
   "id": "5c2b8dab",
   "metadata": {},
   "outputs": [
    {
     "name": "stdout",
     "output_type": "stream",
     "text": [
      "olahraga\n"
     ]
    }
   ],
   "source": [
    "print (aktivitas)"
   ]
  },
  {
   "cell_type": "code",
   "execution_count": 12,
   "id": "b86cdf08",
   "metadata": {},
   "outputs": [
    {
     "name": "stdout",
     "output_type": "stream",
     "text": [
      "oke\n"
     ]
    }
   ],
   "source": [
    "if \"f\" in \"foo\":\n",
    "    print(\"oke\")"
   ]
  },
  {
   "cell_type": "code",
   "execution_count": 13,
   "id": "8a5b0584",
   "metadata": {},
   "outputs": [
    {
     "name": "stdout",
     "output_type": "stream",
     "text": [
      "4\n",
      "3\n",
      "2\n",
      "1\n",
      "0\n"
     ]
    }
   ],
   "source": [
    "n = 5\n",
    "while n>0:\n",
    "    n-=1\n",
    "    print (n)\n",
    "    "
   ]
  },
  {
   "cell_type": "code",
   "execution_count": 14,
   "id": "89d8bc91",
   "metadata": {},
   "outputs": [
    {
     "name": "stdout",
     "output_type": "stream",
     "text": [
      "4\n",
      "3\n",
      "2\n",
      "1\n",
      "0\n",
      "loop ended\n"
     ]
    }
   ],
   "source": [
    "n = 5\n",
    "while n>0:\n",
    "    n-=1\n",
    "    print (n)\n",
    "\n",
    "print (\"loop ended\")"
   ]
  },
  {
   "cell_type": "code",
   "execution_count": 15,
   "id": "50c219b8",
   "metadata": {},
   "outputs": [
    {
     "name": "stdout",
     "output_type": "stream",
     "text": [
      "4\n",
      "3\n",
      "2\n"
     ]
    }
   ],
   "source": [
    "n = 5\n",
    "while n>0:\n",
    "    n-=1\n",
    "    print (n)\n",
    "    if n == 2:\n",
    "        break\n",
    "else:\n",
    "    print (\"loop done\")"
   ]
  },
  {
   "cell_type": "code",
   "execution_count": 31,
   "id": "21b0d51e",
   "metadata": {},
   "outputs": [
    {
     "name": "stdout",
     "output_type": "stream",
     "text": [
      "4\n",
      "3\n",
      "2\n"
     ]
    }
   ],
   "source": [
    "n = 5\n",
    "while n>0:\n",
    "    n-=1\n",
    "    print (n)\n",
    "    if n == 2:\n",
    "        break\n",
    "else:\n",
    "    print (\"loop done\")\n",
    "        "
   ]
  },
  {
   "cell_type": "code",
   "execution_count": 32,
   "id": "77bba167",
   "metadata": {},
   "outputs": [
    {
     "name": "stdout",
     "output_type": "stream",
     "text": [
      "**\n",
      "***\n",
      "****\n",
      "*****\n",
      "\n"
     ]
    }
   ],
   "source": [
    "x = \"*\"\n",
    "baris = 1;\n",
    "jml= 4;\n",
    "hasil =\"\"\n",
    "while baris <= jml:\n",
    "    kolom = baris\n",
    "    while kolom > 0:\n",
    "        hasil +=x\n",
    "        kolom -=1\n",
    "    hasil +=\"*\\n\"\n",
    "    baris += 1\n",
    "print (hasil)"
   ]
  },
  {
   "cell_type": "code",
   "execution_count": 67,
   "id": "237ded6b",
   "metadata": {},
   "outputs": [
    {
     "name": "stdout",
     "output_type": "stream",
     "text": [
      "*****\n",
      "****\n",
      "***\n",
      "**\n",
      "\n"
     ]
    }
   ],
   "source": [
    "x = \"*\"\n",
    "baris = 1;\n",
    "jml= 4;\n",
    "hasil =\"\"\n",
    "while baris <= jml:\n",
    "    kolom = baris\n",
    "    while kolom <= 4:\n",
    "        hasil +=x\n",
    "        kolom +=1\n",
    "    hasil +=\"*\\n\"\n",
    "    baris += 1\n",
    "print (hasil)"
   ]
  },
  {
   "cell_type": "code",
   "execution_count": 68,
   "id": "19103746",
   "metadata": {},
   "outputs": [
    {
     "name": "stdout",
     "output_type": "stream",
     "text": [
      "15F, 45F120\n"
     ]
    }
   ],
   "source": [
    "temp = input(\"15F, 45F\")"
   ]
  },
  {
   "cell_type": "code",
   "execution_count": null,
   "id": "2ced4fe6",
   "metadata": {},
   "outputs": [],
   "source": []
  }
 ],
 "metadata": {
  "kernelspec": {
   "display_name": "Python 3 (ipykernel)",
   "language": "python",
   "name": "python3"
  },
  "language_info": {
   "codemirror_mode": {
    "name": "ipython",
    "version": 3
   },
   "file_extension": ".py",
   "mimetype": "text/x-python",
   "name": "python",
   "nbconvert_exporter": "python",
   "pygments_lexer": "ipython3",
   "version": "3.9.7"
  }
 },
 "nbformat": 4,
 "nbformat_minor": 5
}
