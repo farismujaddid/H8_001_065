{
 "cells": [
  {
   "cell_type": "code",
   "execution_count": 1,
   "id": "0c09c819",
   "metadata": {},
   "outputs": [
    {
     "name": "stdout",
     "output_type": "stream",
     "text": [
      "**\n",
      "***\n",
      "****\n",
      "*****\n",
      "\n"
     ]
    }
   ],
   "source": [
    "x = \"*\"\n",
    "baris = 1;\n",
    "jml= 4;\n",
    "hasil =\"\"\n",
    "while baris <= jml:\n",
    "    kolom = baris\n",
    "    while kolom > 0:\n",
    "        hasil +=x\n",
    "        kolom -=1\n",
    "    hasil +=\"*\\n\"\n",
    "    baris += 1\n",
    "print (hasil)"
   ]
  },
  {
   "cell_type": "code",
   "execution_count": 5,
   "id": "124db9ba",
   "metadata": {},
   "outputs": [
    {
     "ename": "KeyboardInterrupt",
     "evalue": "",
     "output_type": "error",
     "traceback": [
      "\u001b[0;31m---------------------------------------------------------------------------\u001b[0m",
      "\u001b[0;31mKeyboardInterrupt\u001b[0m                         Traceback (most recent call last)",
      "\u001b[0;32m/var/folders/2l/flmhnfpd03q4y478_25s1_0h0000gn/T/ipykernel_1864/1817369361.py\u001b[0m in \u001b[0;36m<module>\u001b[0;34m\u001b[0m\n\u001b[1;32m      8\u001b[0m         \u001b[0mhasil\u001b[0m \u001b[0;34m+=\u001b[0m\u001b[0mx\u001b[0m\u001b[0;34m\u001b[0m\u001b[0;34m\u001b[0m\u001b[0m\n\u001b[1;32m      9\u001b[0m         \u001b[0mkolom\u001b[0m \u001b[0;34m-=\u001b[0m\u001b[0;36m1\u001b[0m\u001b[0;34m\u001b[0m\u001b[0;34m\u001b[0m\u001b[0m\n\u001b[0;32m---> 10\u001b[0;31m     \u001b[0mhasil\u001b[0m \u001b[0;34m+=\u001b[0m\u001b[0;34m\"*\\n\"\u001b[0m\u001b[0;34m\u001b[0m\u001b[0;34m\u001b[0m\u001b[0m\n\u001b[0m\u001b[1;32m     11\u001b[0m     \u001b[0mbaris\u001b[0m \u001b[0;34m-=\u001b[0m \u001b[0;36m1\u001b[0m\u001b[0;34m\u001b[0m\u001b[0;34m\u001b[0m\u001b[0m\n\u001b[1;32m     12\u001b[0m \u001b[0mprint\u001b[0m \u001b[0;34m(\u001b[0m\u001b[0mhasil\u001b[0m\u001b[0;34m)\u001b[0m\u001b[0;34m\u001b[0m\u001b[0;34m\u001b[0m\u001b[0m\n",
      "\u001b[0;31mKeyboardInterrupt\u001b[0m: "
     ]
    }
   ],
   "source": [
    "x = \"*\"\n",
    "baris = 4;\n",
    "jml= 4;\n",
    "hasil =\"\"\n",
    "while baris <= jml:\n",
    "    kolom = baris\n",
    "    while kolom > 4:\n",
    "        hasil +=x\n",
    "        kolom -=1\n",
    "    hasil +=\"*\\n\"\n",
    "    baris -= 1\n",
    "print (hasil)"
   ]
  },
  {
   "cell_type": "code",
   "execution_count": null,
   "id": "82e1408e",
   "metadata": {},
   "outputs": [],
   "source": []
  },
  {
   "cell_type": "code",
   "execution_count": null,
   "id": "db378a00",
   "metadata": {},
   "outputs": [],
   "source": []
  },
  {
   "cell_type": "code",
   "execution_count": null,
   "id": "6593916c",
   "metadata": {},
   "outputs": [],
   "source": []
  }
 ],
 "metadata": {
  "kernelspec": {
   "display_name": "Python 3 (ipykernel)",
   "language": "python",
   "name": "python3"
  },
  "language_info": {
   "codemirror_mode": {
    "name": "ipython",
    "version": 3
   },
   "file_extension": ".py",
   "mimetype": "text/x-python",
   "name": "python",
   "nbconvert_exporter": "python",
   "pygments_lexer": "ipython3",
   "version": "3.9.7"
  }
 },
 "nbformat": 4,
 "nbformat_minor": 5
}
